{
 "cells": [
  {
   "cell_type": "code",
   "execution_count": 1,
   "id": "1cd8a896",
   "metadata": {},
   "outputs": [],
   "source": [
    "import open3d as o3d\n",
    "import numpy as np\n",
    "import os\n",
    "import cv2\n",
    "import torch"
   ]
  },
  {
   "cell_type": "code",
   "execution_count": 3,
   "id": "af120b6a",
   "metadata": {},
   "outputs": [],
   "source": [
    "data_dir = \"../anycam_output2/\"\n",
    "trajectory = np.load(os.path.join(data_dir, \"trajectory.npy\"))\n",
    "depths = np.load(os.path.join(data_dir, \"depths.npy\"))\n",
    "uncertainties = np.load(os.path.join(data_dir, \"uncertainties.npy\"))\n",
    "proj = np.load(os.path.join(data_dir, \"projection.npy\"))\n",
    "\n",
    "\n",
    "frame_files = sorted([\n",
    "    f for f in os.listdir(data_dir)\n",
    "    if f.lower().endswith((\".png\", \".jpg\", \".jpeg\"))\n",
    "])\n",
    "frames = []\n",
    "for f in frame_files:\n",
    "    img = cv2.imread(os.path.join(data_dir, f))\n",
    "    img = img.astype(np.float32) / 255.0\n",
    "    frames.append(img)"
   ]
  },
  {
   "cell_type": "code",
   "execution_count": 3,
   "id": "e115b331",
   "metadata": {},
   "outputs": [
    {
     "name": "stdout",
     "output_type": "stream",
     "text": [
      "trajectory shape: (211, 4, 4)\n",
      "depths shape: (211, 1, 189, 189)\n",
      "uncertainties shape: (211, 1, 189, 189)\n",
      "proj shape: (3, 3)\n"
     ]
    }
   ],
   "source": [
    "print(\"trajectory shape:\", trajectory.shape)\n",
    "print(\"depths shape:\", depths.shape)\n",
    "print(\"uncertainties shape:\", uncertainties.shape)\n",
    "print(\"proj shape:\", proj.shape)"
   ]
  },
  {
   "cell_type": "code",
   "execution_count": null,
   "id": "b5093a82",
   "metadata": {},
   "outputs": [],
   "source": []
  }
 ],
 "metadata": {
  "kernelspec": {
   "display_name": ".venv",
   "language": "python",
   "name": "python3"
  },
  "language_info": {
   "codemirror_mode": {
    "name": "ipython",
    "version": 3
   },
   "file_extension": ".py",
   "mimetype": "text/x-python",
   "name": "python",
   "nbconvert_exporter": "python",
   "pygments_lexer": "ipython3",
   "version": "3.11.7"
  }
 },
 "nbformat": 4,
 "nbformat_minor": 5
}
